{
 "cells": [
  {
   "cell_type": "code",
   "execution_count": 1,
   "metadata": {},
   "outputs": [],
   "source": [
    "import pandas as pd"
   ]
  },
  {
   "cell_type": "code",
   "execution_count": 2,
   "metadata": {},
   "outputs": [
    {
     "ename": "SyntaxError",
     "evalue": "invalid syntax (<ipython-input-2-43942cbde106>, line 1)",
     "output_type": "error",
     "traceback": [
      "\u001b[0;36m  File \u001b[0;32m\"<ipython-input-2-43942cbde106>\"\u001b[0;36m, line \u001b[0;32m1\u001b[0m\n\u001b[0;31m    pd.read a\u001b[0m\n\u001b[0m            ^\u001b[0m\n\u001b[0;31mSyntaxError\u001b[0m\u001b[0;31m:\u001b[0m invalid syntax\n"
     ]
    }
   ],
   "source": [
    "pd.read a"
   ]
  },
  {
   "cell_type": "code",
   "execution_count": 9,
   "metadata": {},
   "outputs": [],
   "source": [
    "songs_to_listen= pd.read_csv('Top_1_000_Songs_To_Hear_Before_You_Die.csv', delimiter = ',')"
   ]
  },
  {
   "cell_type": "code",
   "execution_count": 15,
   "metadata": {},
   "outputs": [
    {
     "data": {
      "text/html": [
       "<div>\n",
       "<style scoped>\n",
       "    .dataframe tbody tr th:only-of-type {\n",
       "        vertical-align: middle;\n",
       "    }\n",
       "\n",
       "    .dataframe tbody tr th {\n",
       "        vertical-align: top;\n",
       "    }\n",
       "\n",
       "    .dataframe thead th {\n",
       "        text-align: right;\n",
       "    }\n",
       "</style>\n",
       "<table border=\"1\" class=\"dataframe\">\n",
       "  <thead>\n",
       "    <tr style=\"text-align: right;\">\n",
       "      <th></th>\n",
       "      <th>THEME</th>\n",
       "      <th>TITLE</th>\n",
       "      <th>ARTIST</th>\n",
       "      <th>YEAR</th>\n",
       "      <th>SPOTIFY_URL</th>\n",
       "    </tr>\n",
       "  </thead>\n",
       "  <tbody>\n",
       "    <tr>\n",
       "      <th>0</th>\n",
       "      <td>Love</td>\n",
       "      <td>The Look of Love</td>\n",
       "      <td>ABC</td>\n",
       "      <td>1982</td>\n",
       "      <td>http://open.spotify.com/track/78j3qTBdzcIiT3eS...</td>\n",
       "    </tr>\n",
       "    <tr>\n",
       "      <th>1</th>\n",
       "      <td>Love</td>\n",
       "      <td>The Shining</td>\n",
       "      <td>Badly Drawn Boy</td>\n",
       "      <td>2000</td>\n",
       "      <td>http://open.spotify.com/track/2PojSoZ94AIzp7fs...</td>\n",
       "    </tr>\n",
       "    <tr>\n",
       "      <th>2</th>\n",
       "      <td>Love</td>\n",
       "      <td>God Only Knows</td>\n",
       "      <td>The Beach Boys</td>\n",
       "      <td>1966</td>\n",
       "      <td>http://open.spotify.com/track/0ObrXLrfrqJUNc8R...</td>\n",
       "    </tr>\n",
       "    <tr>\n",
       "      <th>3</th>\n",
       "      <td>Love</td>\n",
       "      <td>Good Vibrations</td>\n",
       "      <td>The Beach Boys</td>\n",
       "      <td>1966</td>\n",
       "      <td>http://open.spotify.com/track/2oF7FZHIJbzjeEXZ...</td>\n",
       "    </tr>\n",
       "    <tr>\n",
       "      <th>4</th>\n",
       "      <td>Love</td>\n",
       "      <td>Wouldn’t It Be Nice</td>\n",
       "      <td>The Beach Boys</td>\n",
       "      <td>1966</td>\n",
       "      <td>http://open.spotify.com/track/0cx32rX0uZvcJUP9...</td>\n",
       "    </tr>\n",
       "    <tr>\n",
       "      <th>5</th>\n",
       "      <td>Love</td>\n",
       "      <td>Eight Days a Week</td>\n",
       "      <td>The Beatles</td>\n",
       "      <td>1964</td>\n",
       "      <td>NaN</td>\n",
       "    </tr>\n",
       "    <tr>\n",
       "      <th>6</th>\n",
       "      <td>Love</td>\n",
       "      <td>Girl</td>\n",
       "      <td>The Beatles</td>\n",
       "      <td>1965</td>\n",
       "      <td>NaN</td>\n",
       "    </tr>\n",
       "  </tbody>\n",
       "</table>\n",
       "</div>"
      ],
      "text/plain": [
       "  THEME                TITLE           ARTIST  YEAR  \\\n",
       "0  Love     The Look of Love              ABC  1982   \n",
       "1  Love          The Shining  Badly Drawn Boy  2000   \n",
       "2  Love       God Only Knows   The Beach Boys  1966   \n",
       "3  Love      Good Vibrations   The Beach Boys  1966   \n",
       "4  Love  Wouldn’t It Be Nice   The Beach Boys  1966   \n",
       "5  Love    Eight Days a Week      The Beatles  1964   \n",
       "6  Love                 Girl      The Beatles  1965   \n",
       "\n",
       "                                         SPOTIFY_URL  \n",
       "0  http://open.spotify.com/track/78j3qTBdzcIiT3eS...  \n",
       "1  http://open.spotify.com/track/2PojSoZ94AIzp7fs...  \n",
       "2  http://open.spotify.com/track/0ObrXLrfrqJUNc8R...  \n",
       "3  http://open.spotify.com/track/2oF7FZHIJbzjeEXZ...  \n",
       "4  http://open.spotify.com/track/0cx32rX0uZvcJUP9...  \n",
       "5                                                NaN  \n",
       "6                                                NaN  "
      ]
     },
     "execution_count": 15,
     "metadata": {},
     "output_type": "execute_result"
    }
   ],
   "source": [
    "songs_to_listen.head(7)"
   ]
  },
  {
   "cell_type": "code",
   "execution_count": 14,
   "metadata": {},
   "outputs": [
    {
     "data": {
      "text/html": [
       "<div>\n",
       "<style scoped>\n",
       "    .dataframe tbody tr th:only-of-type {\n",
       "        vertical-align: middle;\n",
       "    }\n",
       "\n",
       "    .dataframe tbody tr th {\n",
       "        vertical-align: top;\n",
       "    }\n",
       "\n",
       "    .dataframe thead th {\n",
       "        text-align: right;\n",
       "    }\n",
       "</style>\n",
       "<table border=\"1\" class=\"dataframe\">\n",
       "  <thead>\n",
       "    <tr style=\"text-align: right;\">\n",
       "      <th></th>\n",
       "      <th>THEME</th>\n",
       "      <th>TITLE</th>\n",
       "      <th>ARTIST</th>\n",
       "      <th>YEAR</th>\n",
       "      <th>SPOTIFY_URL</th>\n",
       "    </tr>\n",
       "  </thead>\n",
       "  <tbody>\n",
       "    <tr>\n",
       "      <th>987</th>\n",
       "      <td>Party songs</td>\n",
       "      <td>A Punk</td>\n",
       "      <td>Vampire Weekend</td>\n",
       "      <td>2008</td>\n",
       "      <td>http://open.spotify.com/track/0euZeG7kpPhtp4V6...</td>\n",
       "    </tr>\n",
       "    <tr>\n",
       "      <th>988</th>\n",
       "      <td>Party songs</td>\n",
       "      <td>Me and Baby Brother</td>\n",
       "      <td>War</td>\n",
       "      <td>1973</td>\n",
       "      <td>http://open.spotify.com/track/28q8PaM3ROCZMKeN...</td>\n",
       "    </tr>\n",
       "    <tr>\n",
       "      <th>989</th>\n",
       "      <td>Party songs</td>\n",
       "      <td>Break Dance – Electric Boogie</td>\n",
       "      <td>West Street Mob</td>\n",
       "      <td>1983</td>\n",
       "      <td>NaN</td>\n",
       "    </tr>\n",
       "    <tr>\n",
       "      <th>990</th>\n",
       "      <td>Party songs</td>\n",
       "      <td>My Generation</td>\n",
       "      <td>The Who</td>\n",
       "      <td>1965</td>\n",
       "      <td>http://open.spotify.com/track/4kxrawSkeAoJiASQ...</td>\n",
       "    </tr>\n",
       "    <tr>\n",
       "      <th>991</th>\n",
       "      <td>Party songs</td>\n",
       "      <td>Last Night Changed It All</td>\n",
       "      <td>Esther Williams</td>\n",
       "      <td>1976</td>\n",
       "      <td>http://open.spotify.com/track/6zMgWeJracgip80Y...</td>\n",
       "    </tr>\n",
       "    <tr>\n",
       "      <th>992</th>\n",
       "      <td>Party songs</td>\n",
       "      <td>(Your Love Keeps Lifting Me) Higher and Higher</td>\n",
       "      <td>Jackie Wilson</td>\n",
       "      <td>1967</td>\n",
       "      <td>NaN</td>\n",
       "    </tr>\n",
       "    <tr>\n",
       "      <th>993</th>\n",
       "      <td>Party songs</td>\n",
       "      <td>Turn Off the Lights</td>\n",
       "      <td>Larry Young</td>\n",
       "      <td>1975</td>\n",
       "      <td>http://open.spotify.com/track/2kXBmTMIDIlNSQEe...</td>\n",
       "    </tr>\n",
       "  </tbody>\n",
       "</table>\n",
       "</div>"
      ],
      "text/plain": [
       "           THEME                                           TITLE  \\\n",
       "987  Party songs                                          A Punk   \n",
       "988  Party songs                             Me and Baby Brother   \n",
       "989  Party songs                   Break Dance – Electric Boogie   \n",
       "990  Party songs                                   My Generation   \n",
       "991  Party songs                       Last Night Changed It All   \n",
       "992  Party songs  (Your Love Keeps Lifting Me) Higher and Higher   \n",
       "993  Party songs                             Turn Off the Lights   \n",
       "\n",
       "              ARTIST  YEAR                                        SPOTIFY_URL  \n",
       "987  Vampire Weekend  2008  http://open.spotify.com/track/0euZeG7kpPhtp4V6...  \n",
       "988              War  1973  http://open.spotify.com/track/28q8PaM3ROCZMKeN...  \n",
       "989  West Street Mob  1983                                                NaN  \n",
       "990          The Who  1965  http://open.spotify.com/track/4kxrawSkeAoJiASQ...  \n",
       "991  Esther Williams  1976  http://open.spotify.com/track/6zMgWeJracgip80Y...  \n",
       "992    Jackie Wilson  1967                                                NaN  \n",
       "993      Larry Young  1975  http://open.spotify.com/track/2kXBmTMIDIlNSQEe...  "
      ]
     },
     "execution_count": 14,
     "metadata": {},
     "output_type": "execute_result"
    }
   ],
   "source": [
    "songs_to_listen.tail(7)"
   ]
  },
  {
   "cell_type": "code",
   "execution_count": 19,
   "metadata": {},
   "outputs": [
    {
     "data": {
      "text/plain": [
       "<bound method DataFrame.info of            THEME                                           TITLE  \\\n",
       "0           Love                                The Look of Love   \n",
       "1           Love                                     The Shining   \n",
       "2           Love                                  God Only Knows   \n",
       "3           Love                                 Good Vibrations   \n",
       "4           Love                             Wouldn’t It Be Nice   \n",
       "5           Love                               Eight Days a Week   \n",
       "6           Love                                            Girl   \n",
       "7           Love                        I Want to Hold Your Hand   \n",
       "8           Love                                   She Loves You   \n",
       "9           Love                                       Something   \n",
       "10          Love              With a Little Help from My Friends   \n",
       "11          Love                                Song for Whoever   \n",
       "12          Love                          How Deep is Your Love?   \n",
       "13          Love                            Sweet Little Sixteen   \n",
       "14          Love                                   Crazy in Love   \n",
       "15          Love                                        Thirteen   \n",
       "16          Love                           I’ll Take Care of You   \n",
       "17          Love                                          Heroes   \n",
       "18          Love                                The Wedding Song   \n",
       "19          Love                     Sit Down I Think I Love You   \n",
       "20          Love                Everybody Needs Somebody to Love   \n",
       "21          Love                               Mehbooba Mehbooba   \n",
       "22          Love                                  Hounds of Love   \n",
       "23          Love              The Man With the Child in His Eyes   \n",
       "24          Love                                  The Man I Love   \n",
       "25          Love                                 Love Me Forever   \n",
       "26          Love                      The Dark End of the Street   \n",
       "27          Love                                 I Walk the Line   \n",
       "28          Love                                          Deanna   \n",
       "29          Love                                   I Got a Woman   \n",
       "..           ...                                             ...   \n",
       "964  Party songs                                             Dat   \n",
       "965  Party songs                                 Gin House Blues   \n",
       "966  Party songs                                   Lost in Music   \n",
       "967  Party songs                        He’s the Greatest Dancer   \n",
       "968  Party songs                                          I Wish   \n",
       "969  Party songs                              Dance to the Music   \n",
       "970  Party songs                                       Nite Klub   \n",
       "971  Party songs                  You Make Me Feel (Mighty Real)   \n",
       "972  Party songs                           (Under Mi) Sleng Teng   \n",
       "973  Party songs                                How Soon Is Now?   \n",
       "974  Party songs                                     Memorabilia   \n",
       "975  Party songs                                  Beat the Clock   \n",
       "976  Party songs                                       I’m a Man   \n",
       "977  Party songs                           Young Hearts Run Free   \n",
       "978  Party songs                                    Sueño Latino   \n",
       "979  Party songs                           Saturday Nite Special   \n",
       "980  Party songs                                        Wipe Out   \n",
       "981  Party songs                                Rapper’s Delight   \n",
       "982  Party songs                            Do What You Wanna Do   \n",
       "983  Party songs                                           Shout   \n",
       "984  Party songs                                      Cloud Nine   \n",
       "985  Party songs                                        Great DJ   \n",
       "986  Party songs                                   Disco Inferno   \n",
       "987  Party songs                                          A Punk   \n",
       "988  Party songs                             Me and Baby Brother   \n",
       "989  Party songs                   Break Dance – Electric Boogie   \n",
       "990  Party songs                                   My Generation   \n",
       "991  Party songs                       Last Night Changed It All   \n",
       "992  Party songs  (Your Love Keeps Lifting Me) Higher and Higher   \n",
       "993  Party songs                             Turn Off the Lights   \n",
       "\n",
       "                          ARTIST  YEAR  \\\n",
       "0                            ABC  1982   \n",
       "1                Badly Drawn Boy  2000   \n",
       "2                 The Beach Boys  1966   \n",
       "3                 The Beach Boys  1966   \n",
       "4                 The Beach Boys  1966   \n",
       "5                    The Beatles  1964   \n",
       "6                    The Beatles  1965   \n",
       "7                    The Beatles  1963   \n",
       "8                    The Beatles  1963   \n",
       "9                    The Beatles  1969   \n",
       "10                   The Beatles  1967   \n",
       "11           The Beautiful South  1989   \n",
       "12                  The Bee Gees  1977   \n",
       "13                   Chuck Berry  1958   \n",
       "14                       Beyoncé  2003   \n",
       "15                      Big Star  1972   \n",
       "16            Bobby “Blue” Bland  1959   \n",
       "17                   David Bowie  1977   \n",
       "18                   David Bowie  1993   \n",
       "19           Buffalo Springfield  1966   \n",
       "20                 Solomon Burke  1964   \n",
       "21                    R D Burman  1975   \n",
       "22                     Kate Bush  1985   \n",
       "23                     Kate Bush  1978   \n",
       "24                     Kate Bush  1994   \n",
       "25         Carlton and the Shoes  1968   \n",
       "26                    James Carr  1967   \n",
       "27                   Johnny Cash  1956   \n",
       "28   Nick Cave and the Bad Seeds  1988   \n",
       "29                   Ray Charles  1954   \n",
       "..                           ...   ...   \n",
       "964            Pluto Shervington  1976   \n",
       "965                  Nina Simone  1975   \n",
       "966                Sister Sledge  1979   \n",
       "967                Sister Sledge  1979   \n",
       "968                      Skee-Lo  1995   \n",
       "969     Sly and the Family Stone  1968   \n",
       "970                 The Specials  1979   \n",
       "971                    Sylvester  1978   \n",
       "972                  Wayne Smith  1985   \n",
       "973                   The Smiths  1985   \n",
       "974                    Soft Cell  1982   \n",
       "975                       Sparks  1979   \n",
       "976      The Spencer Davis Group  1967   \n",
       "977                 Candi Staton  1976   \n",
       "978                 Sueño Latino  1989   \n",
       "979         The Sundown Playboys  1972   \n",
       "980                 The Surfaris  1962   \n",
       "981           The Sugarhill Gang  1979   \n",
       "982                 T-Connection  1977   \n",
       "983              Tears for Fears  1984   \n",
       "984              The Temptations  1968   \n",
       "985               The Ting Tings  2008   \n",
       "986                  The Trammps  1976   \n",
       "987              Vampire Weekend  2008   \n",
       "988                          War  1973   \n",
       "989              West Street Mob  1983   \n",
       "990                      The Who  1965   \n",
       "991              Esther Williams  1976   \n",
       "992                Jackie Wilson  1967   \n",
       "993                  Larry Young  1975   \n",
       "\n",
       "                                           SPOTIFY_URL  \n",
       "0    http://open.spotify.com/track/78j3qTBdzcIiT3eS...  \n",
       "1    http://open.spotify.com/track/2PojSoZ94AIzp7fs...  \n",
       "2    http://open.spotify.com/track/0ObrXLrfrqJUNc8R...  \n",
       "3    http://open.spotify.com/track/2oF7FZHIJbzjeEXZ...  \n",
       "4    http://open.spotify.com/track/0cx32rX0uZvcJUP9...  \n",
       "5                                                  NaN  \n",
       "6                                                  NaN  \n",
       "7                                                  NaN  \n",
       "8                                                  NaN  \n",
       "9                                                  NaN  \n",
       "10                                                 NaN  \n",
       "11   http://open.spotify.com/track/7k00fu054zyIgHEp...  \n",
       "12   http://open.spotify.com/track/1gIKd24bixkgYzux...  \n",
       "13   http://open.spotify.com/track/1fDfWFb1YmdRWu5J...  \n",
       "14   http://open.spotify.com/track/5IVuqXILoxVWvWEP...  \n",
       "15                                                 NaN  \n",
       "16   http://open.spotify.com/track/5vUitXO0fTxxS293...  \n",
       "17   http://open.spotify.com/track/1qyRX6xXvsmbxR6F...  \n",
       "18   http://open.spotify.com/track/0PUmT62MdJwmVf4s...  \n",
       "19   http://open.spotify.com/track/70dh9SQ7pcNLn7QE...  \n",
       "20   http://open.spotify.com/track/66GhKP6S6KqYMHR7...  \n",
       "21                                                 NaN  \n",
       "22                                                 NaN  \n",
       "23   http://open.spotify.com/track/4xjVfArXNQRxAvsU...  \n",
       "24                                                 NaN  \n",
       "25                                                 NaN  \n",
       "26                                                 NaN  \n",
       "27   http://open.spotify.com/track/7wJepIHVDC88KzSy...  \n",
       "28   http://open.spotify.com/track/0XWoG02DaQES7ATC...  \n",
       "29   http://open.spotify.com/track/2xar08Fq5xra2KKZ...  \n",
       "..                                                 ...  \n",
       "964                                                NaN  \n",
       "965  http://open.spotify.com/track/0aGprKPHGtQyQZ9R...  \n",
       "966  http://open.spotify.com/track/3FnkIp37lBYvHljK...  \n",
       "967  http://open.spotify.com/track/5MuNxNox3zTanAFI...  \n",
       "968                                                NaN  \n",
       "969  http://open.spotify.com/track/6W9t1lhkATr4XrnX...  \n",
       "970  http://open.spotify.com/track/2wpQZvvrg6zUBPPB...  \n",
       "971  http://open.spotify.com/track/0DY0B9PkxKFVs0Ya...  \n",
       "972  http://open.spotify.com/track/3l9oTzHXnAJcg4x2...  \n",
       "973                                                NaN  \n",
       "974  http://open.spotify.com/track/6nePlBdKTESydzjO...  \n",
       "975                                                NaN  \n",
       "976  http://open.spotify.com/track/7vRhkN9rpM0FtDhB...  \n",
       "977  http://open.spotify.com/track/3MFa9idQuY4iJLWs...  \n",
       "978                                                NaN  \n",
       "979                                                NaN  \n",
       "980  http://open.spotify.com/track/6uudeEvl6t5WrFgo...  \n",
       "981  http://open.spotify.com/track/1qb27ZTsi0gVxHte...  \n",
       "982  http://open.spotify.com/track/5PzK3L2Lm4mbo0H8...  \n",
       "983  http://open.spotify.com/track/4E1n2cvH7Wb7xZ56...  \n",
       "984  http://open.spotify.com/track/5yGqsTtt4oDRY1Fd...  \n",
       "985  http://open.spotify.com/track/3kmSzP8JUM4kUwPW...  \n",
       "986  http://open.spotify.com/track/5jUA1njy3h6ynHLv...  \n",
       "987  http://open.spotify.com/track/0euZeG7kpPhtp4V6...  \n",
       "988  http://open.spotify.com/track/28q8PaM3ROCZMKeN...  \n",
       "989                                                NaN  \n",
       "990  http://open.spotify.com/track/4kxrawSkeAoJiASQ...  \n",
       "991  http://open.spotify.com/track/6zMgWeJracgip80Y...  \n",
       "992                                                NaN  \n",
       "993  http://open.spotify.com/track/2kXBmTMIDIlNSQEe...  \n",
       "\n",
       "[994 rows x 5 columns]>"
      ]
     },
     "execution_count": 19,
     "metadata": {},
     "output_type": "execute_result"
    }
   ],
   "source": [
    "songs_to_listen.info"
   ]
  },
  {
   "cell_type": "code",
   "execution_count": 20,
   "metadata": {},
   "outputs": [
    {
     "data": {
      "text/plain": [
       "(994, 5)"
      ]
     },
     "execution_count": 20,
     "metadata": {},
     "output_type": "execute_result"
    }
   ],
   "source": [
    "songs_to_listen.shape"
   ]
  },
  {
   "cell_type": "code",
   "execution_count": 21,
   "metadata": {},
   "outputs": [
    {
     "data": {
      "text/plain": [
       "Index(['THEME', 'TITLE', 'ARTIST', 'YEAR', 'SPOTIFY_URL'], dtype='object')"
      ]
     },
     "execution_count": 21,
     "metadata": {},
     "output_type": "execute_result"
    }
   ],
   "source": [
    "songs_to_listen.columns"
   ]
  },
  {
   "cell_type": "code",
   "execution_count": 25,
   "metadata": {},
   "outputs": [],
   "source": [
    "Theme = songs_to_listen['THEME']"
   ]
  },
  {
   "cell_type": "code",
   "execution_count": 26,
   "metadata": {},
   "outputs": [
    {
     "ename": "AttributeError",
     "evalue": "'Series' object has no attribute 'info'",
     "output_type": "error",
     "traceback": [
      "\u001b[0;31m---------------------------------------------------------------------------\u001b[0m",
      "\u001b[0;31mAttributeError\u001b[0m                            Traceback (most recent call last)",
      "\u001b[0;32m<ipython-input-26-46676c407fdb>\u001b[0m in \u001b[0;36m<module>\u001b[0;34m()\u001b[0m\n\u001b[0;32m----> 1\u001b[0;31m \u001b[0mTheme\u001b[0m\u001b[0;34m.\u001b[0m\u001b[0minfo\u001b[0m\u001b[0;34m\u001b[0m\u001b[0m\n\u001b[0m",
      "\u001b[0;32m/usr/local/lib/python3.7/site-packages/pandas/core/generic.py\u001b[0m in \u001b[0;36m__getattr__\u001b[0;34m(self, name)\u001b[0m\n\u001b[1;32m   4374\u001b[0m             \u001b[0;32mif\u001b[0m \u001b[0mself\u001b[0m\u001b[0;34m.\u001b[0m\u001b[0m_info_axis\u001b[0m\u001b[0;34m.\u001b[0m\u001b[0m_can_hold_identifiers_and_holds_name\u001b[0m\u001b[0;34m(\u001b[0m\u001b[0mname\u001b[0m\u001b[0;34m)\u001b[0m\u001b[0;34m:\u001b[0m\u001b[0;34m\u001b[0m\u001b[0m\n\u001b[1;32m   4375\u001b[0m                 \u001b[0;32mreturn\u001b[0m \u001b[0mself\u001b[0m\u001b[0;34m[\u001b[0m\u001b[0mname\u001b[0m\u001b[0;34m]\u001b[0m\u001b[0;34m\u001b[0m\u001b[0m\n\u001b[0;32m-> 4376\u001b[0;31m             \u001b[0;32mreturn\u001b[0m \u001b[0mobject\u001b[0m\u001b[0;34m.\u001b[0m\u001b[0m__getattribute__\u001b[0m\u001b[0;34m(\u001b[0m\u001b[0mself\u001b[0m\u001b[0;34m,\u001b[0m \u001b[0mname\u001b[0m\u001b[0;34m)\u001b[0m\u001b[0;34m\u001b[0m\u001b[0m\n\u001b[0m\u001b[1;32m   4377\u001b[0m \u001b[0;34m\u001b[0m\u001b[0m\n\u001b[1;32m   4378\u001b[0m     \u001b[0;32mdef\u001b[0m \u001b[0m__setattr__\u001b[0m\u001b[0;34m(\u001b[0m\u001b[0mself\u001b[0m\u001b[0;34m,\u001b[0m \u001b[0mname\u001b[0m\u001b[0;34m,\u001b[0m \u001b[0mvalue\u001b[0m\u001b[0;34m)\u001b[0m\u001b[0;34m:\u001b[0m\u001b[0;34m\u001b[0m\u001b[0m\n",
      "\u001b[0;31mAttributeError\u001b[0m: 'Series' object has no attribute 'info'"
     ]
    }
   ],
   "source": [
    "Theme.info"
   ]
  },
  {
   "cell_type": "code",
   "execution_count": 27,
   "metadata": {},
   "outputs": [
    {
     "data": {
      "text/html": [
       "<div>\n",
       "<style scoped>\n",
       "    .dataframe tbody tr th:only-of-type {\n",
       "        vertical-align: middle;\n",
       "    }\n",
       "\n",
       "    .dataframe tbody tr th {\n",
       "        vertical-align: top;\n",
       "    }\n",
       "\n",
       "    .dataframe thead th {\n",
       "        text-align: right;\n",
       "    }\n",
       "</style>\n",
       "<table border=\"1\" class=\"dataframe\">\n",
       "  <thead>\n",
       "    <tr style=\"text-align: right;\">\n",
       "      <th></th>\n",
       "      <th>YEAR</th>\n",
       "    </tr>\n",
       "  </thead>\n",
       "  <tbody>\n",
       "    <tr>\n",
       "      <th>count</th>\n",
       "      <td>994.000000</td>\n",
       "    </tr>\n",
       "    <tr>\n",
       "      <th>mean</th>\n",
       "      <td>1978.058350</td>\n",
       "    </tr>\n",
       "    <tr>\n",
       "      <th>std</th>\n",
       "      <td>15.616006</td>\n",
       "    </tr>\n",
       "    <tr>\n",
       "      <th>min</th>\n",
       "      <td>1916.000000</td>\n",
       "    </tr>\n",
       "    <tr>\n",
       "      <th>25%</th>\n",
       "      <td>1968.000000</td>\n",
       "    </tr>\n",
       "    <tr>\n",
       "      <th>50%</th>\n",
       "      <td>1977.000000</td>\n",
       "    </tr>\n",
       "    <tr>\n",
       "      <th>75%</th>\n",
       "      <td>1988.000000</td>\n",
       "    </tr>\n",
       "    <tr>\n",
       "      <th>max</th>\n",
       "      <td>2008.000000</td>\n",
       "    </tr>\n",
       "  </tbody>\n",
       "</table>\n",
       "</div>"
      ],
      "text/plain": [
       "              YEAR\n",
       "count   994.000000\n",
       "mean   1978.058350\n",
       "std      15.616006\n",
       "min    1916.000000\n",
       "25%    1968.000000\n",
       "50%    1977.000000\n",
       "75%    1988.000000\n",
       "max    2008.000000"
      ]
     },
     "execution_count": 27,
     "metadata": {},
     "output_type": "execute_result"
    }
   ],
   "source": [
    "songs_to_listen.describe()"
   ]
  },
  {
   "cell_type": "code",
   "execution_count": 28,
   "metadata": {},
   "outputs": [
    {
     "data": {
      "text/plain": [
       "count             994\n",
       "unique              7\n",
       "top       Party songs\n",
       "freq              162\n",
       "Name: THEME, dtype: object"
      ]
     },
     "execution_count": 28,
     "metadata": {},
     "output_type": "execute_result"
    }
   ],
   "source": [
    "songs_to_listen['THEME'].describe()"
   ]
  },
  {
   "cell_type": "code",
   "execution_count": 46,
   "metadata": {},
   "outputs": [
    {
     "data": {
      "text/plain": [
       "Party songs             162\n",
       "Heartbreak              145\n",
       "People and places       145\n",
       "Politics and protest    141\n",
       "Love                    139\n",
       "Life and death          131\n",
       "Sex                     131\n",
       "Name: THEME, dtype: int64"
      ]
     },
     "execution_count": 46,
     "metadata": {},
     "output_type": "execute_result"
    }
   ],
   "source": [
    "frecuency_theme=songs_to_listen['THEME'].value_counts()\n",
    "songs_to_listen['THEME'].value_counts()"
   ]
  },
  {
   "cell_type": "code",
   "execution_count": 30,
   "metadata": {},
   "outputs": [
    {
     "data": {
      "text/plain": [
       "count           994\n",
       "unique          670\n",
       "top       Bob Dylan\n",
       "freq             24\n",
       "Name: ARTIST, dtype: object"
      ]
     },
     "execution_count": 30,
     "metadata": {},
     "output_type": "execute_result"
    }
   ],
   "source": [
    "songs_to_listen['ARTIST'].describe()"
   ]
  },
  {
   "cell_type": "code",
   "execution_count": 31,
   "metadata": {},
   "outputs": [
    {
     "data": {
      "text/plain": [
       "Bob Dylan                             24\n",
       "The Beatles                           19\n",
       "David Bowie                            9\n",
       "Randy Newman                           8\n",
       "The Rolling Stones                     8\n",
       "Marvin Gaye                            6\n",
       "Frank Sinatra                          6\n",
       "Prince                                 6\n",
       "Madonna                                6\n",
       "The Beach Boys                         6\n",
       "The Kinks                              6\n",
       "Elvis Presley                          6\n",
       "Chuck Berry                            5\n",
       "The Supremes                           5\n",
       "U2                                     5\n",
       "Johnny Cash                            5\n",
       "Elvis Costello and the Attractions     5\n",
       "The Clash                              5\n",
       "Pulp                                   5\n",
       "Kate Bush                              5\n",
       "Tom Waits                              5\n",
       "Neil Young                             5\n",
       "Al Green                               5\n",
       "The Smiths                             5\n",
       "Bruce Springsteen                      4\n",
       "Arctic Monkeys                         4\n",
       "Stevie Wonder                          4\n",
       "Ray Charles                            4\n",
       "Bill Withers                           4\n",
       "Roy Orbison                            4\n",
       "                                      ..\n",
       "Talib Kweli                            1\n",
       "Edwin Starr                            1\n",
       "Loudon Wainwright III                  1\n",
       "Klaxons                                1\n",
       "Gary Numan                             1\n",
       "The Mothers of Invention               1\n",
       "Eddie Cochran                          1\n",
       "Barbra Streisand and Barry Gibb        1\n",
       "Gorillaz                               1\n",
       "Daft Punk                              1\n",
       "Lynyrd Skynyrd                         1\n",
       "Screamin’ Jay Hawkins                  1\n",
       "Dixie Chicks                           1\n",
       "Johnny Bristol                         1\n",
       "Richard and Linda Thompson             1\n",
       "Keep Me in Your Heart                  1\n",
       "Jarvis Cocker                          1\n",
       "Warren G and Nate Dogg                 1\n",
       "Fats Domino                            1\n",
       "Nick Cave and the Bad Seeds            1\n",
       "The Surfaris                           1\n",
       "Bettye LaVette                         1\n",
       "Archie Bell and the Drells             1\n",
       "Peaches                                1\n",
       "Chairmen of the Board                  1\n",
       "Nilsson                                1\n",
       "Cornershop                             1\n",
       "Hamilton Bohannon                      1\n",
       "Bob Lind                               1\n",
       "Grinderman                             1\n",
       "Name: ARTIST, Length: 670, dtype: int64"
      ]
     },
     "execution_count": 31,
     "metadata": {},
     "output_type": "execute_result"
    }
   ],
   "source": [
    "songs_to_listen['ARTIST'].value_counts()"
   ]
  },
  {
   "cell_type": "code",
   "execution_count": 34,
   "metadata": {},
   "outputs": [
    {
     "data": {
      "text/html": [
       "<div>\n",
       "<style scoped>\n",
       "    .dataframe tbody tr th:only-of-type {\n",
       "        vertical-align: middle;\n",
       "    }\n",
       "\n",
       "    .dataframe tbody tr th {\n",
       "        vertical-align: top;\n",
       "    }\n",
       "\n",
       "    .dataframe thead th {\n",
       "        text-align: right;\n",
       "    }\n",
       "</style>\n",
       "<table border=\"1\" class=\"dataframe\">\n",
       "  <thead>\n",
       "    <tr style=\"text-align: right;\">\n",
       "      <th></th>\n",
       "      <th>YEAR</th>\n",
       "    </tr>\n",
       "  </thead>\n",
       "  <tbody>\n",
       "    <tr>\n",
       "      <th>YEAR</th>\n",
       "      <td>243.859633</td>\n",
       "    </tr>\n",
       "  </tbody>\n",
       "</table>\n",
       "</div>"
      ],
      "text/plain": [
       "            YEAR\n",
       "YEAR  243.859633"
      ]
     },
     "execution_count": 34,
     "metadata": {},
     "output_type": "execute_result"
    }
   ],
   "source": [
    "songs_to_listen.cov()"
   ]
  },
  {
   "cell_type": "code",
   "execution_count": 37,
   "metadata": {},
   "outputs": [],
   "source": [
    "import matplotlib.pyplot as plt"
   ]
  },
  {
   "cell_type": "code",
   "execution_count": 38,
   "metadata": {},
   "outputs": [],
   "source": [
    "plt.rcParams.update({'font.size': 20, 'figure.figsize': (10, 8)}) # set font and plot"
   ]
  },
  {
   "cell_type": "code",
   "execution_count": 49,
   "metadata": {},
   "outputs": [
    {
     "data": {
      "image/png": "[encoded data removed]",
      "text/plain": [
       "<Figure size 720x576 with 1 Axes>"
      ]
     },
     "metadata": {},
     "output_type": "display_data"
    }
   ],
   "source": [
    "songs_to_listen.plot(kind='hist', x='THEME', y='YEAR', title='YEAR v/s THEME');"
   ]
  },
  {
   "cell_type": "code",
   "execution_count": 50,
   "metadata": {},
   "outputs": [
    {
     "data": {
      "text/plain": [
       "Party songs             162\n",
       "Heartbreak              145\n",
       "People and places       145\n",
       "Politics and protest    141\n",
       "Love                    139\n",
       "Life and death          131\n",
       "Sex                     131\n",
       "Name: THEME, dtype: int64"
      ]
     },
     "execution_count": 50,
     "metadata": {},
     "output_type": "execute_result"
    }
   ],
   "source": [
    "songs_to_listen['THEME'].value_counts()"
   ]
  },
  {
   "cell_type": "code",
   "execution_count": null,
   "metadata": {},
   "outputs": [],
   "source": []
  }
 ],
 "metadata": {
  "kernelspec": {
   "display_name": "Python 3",
   "language": "python",
   "name": "python3"
  },
  "language_info": {
   "codemirror_mode": {
    "name": "ipython",
    "version": 3
   },
   "file_extension": ".py",
   "mimetype": "text/x-python",
   "name": "python",
   "nbconvert_exporter": "python",
   "pygments_lexer": "ipython3",
   "version": "3.7.0"
  }
 },
 "nbformat": 4,
 "nbformat_minor": 2
}
